{
 "cells": [
  {
   "cell_type": "code",
   "execution_count": null,
   "metadata": {
    "vscode": {
     "languageId": "plaintext"
    }
   },
   "outputs": [],
   "source": [
    "import matplotlib"
   ]
  },
  {
   "cell_type": "markdown",
   "metadata": {},
   "source": [
    "import pandas as pd\n",
    "import matplotlib.pyplot as plt\n",
    "import seaborn as sns\n",
    "\n",
    "# Read the CSV file\n",
    "df = pd.read_csv('detection_log_jeki_belajar.csv', parse_dates=['Timestamp'])\n",
    "\n",
    "# Convert Timestamp to datetime if not already\n",
    "df['Timestamp'] = pd.to_datetime(df['Timestamp'])\n",
    "\n",
    "# Create the visualization\n",
    "plt.figure(figsize=(15, 6))\n",
    "\n",
    "# Line plot of computational time\n",
    "plt.plot(df['Timestamp'], df['Computational_Time'], marker='o', linestyle='-', markersize=4)\n",
    "\n",
    "# Styling the plot\n",
    "plt.title('Computational Time Over Detection Sequence', fontsize=15)\n",
    "plt.xlabel('Timestamp', fontsize=12)\n",
    "plt.ylabel('Computational Time (seconds)', fontsize=12)\n",
    "plt.xticks(rotation=45)\n",
    "plt.grid(True, linestyle='--', alpha=0.7)\n",
    "\n",
    "# Add some additional insights\n",
    "plt.text(0.02, 0.95, f'Max Time: {df[\"Computational_Time\"].max():.4f} s\\nMin Time: {df[\"Computational_Time\"].min():.4f} s\\nAvg Time: {df[\"Computational_Time\"].mean():.4f} s', \n",
    "         transform=plt.gca().transAxes, verticalalignment='top', \n",
    "         bbox=dict(boxstyle='round', facecolor='white', alpha=0.5))\n",
    "\n",
    "plt.tight_layout()\n",
    "plt.show()\n",
    "\n",
    "# Additional statistical summary\n",
    "print(df['Computational_Time'].describe())"
   ]
  },
  {
   "cell_type": "code",
   "execution_count": null,
   "metadata": {
    "vscode": {
     "languageId": "plaintext"
    }
   },
   "outputs": [],
   "source": [
    "\n"
   ]
  }
 ],
 "metadata": {
  "language_info": {
   "name": "python"
  }
 },
 "nbformat": 4,
 "nbformat_minor": 2
}
